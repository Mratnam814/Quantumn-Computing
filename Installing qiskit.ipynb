{
 "cells": [
  {
   "cell_type": "code",
   "execution_count": 3,
   "id": "c480ae04",
   "metadata": {},
   "outputs": [
    {
     "name": "stdout",
     "output_type": "stream",
     "text": [
      "Collecting qiskit\n",
      "  Using cached qiskit-0.45.1-py3-none-any.whl (9.6 kB)\n",
      "Collecting qiskit-terra==0.45.1\n",
      "  Using cached qiskit_terra-0.45.1-cp38-abi3-win_amd64.whl (5.1 MB)\n",
      "Requirement already satisfied: numpy<2,>=1.17 in c:\\users\\mani ratnam\\anaconda3\\lib\\site-packages (from qiskit-terra==0.45.1->qiskit) (1.22.4)\n",
      "Requirement already satisfied: python-dateutil>=2.8.0 in c:\\users\\mani ratnam\\anaconda3\\lib\\site-packages (from qiskit-terra==0.45.1->qiskit) (2.8.2)\n",
      "Requirement already satisfied: scipy>=1.5 in c:\\users\\mani ratnam\\anaconda3\\lib\\site-packages (from qiskit-terra==0.45.1->qiskit) (1.7.3)\n",
      "Collecting dill>=0.3\n",
      "  Using cached dill-0.3.7-py3-none-any.whl (115 kB)\n",
      "Collecting rustworkx>=0.13.0\n",
      "  Using cached rustworkx-0.13.2-cp39-cp39-win_amd64.whl (1.4 MB)\n",
      "Requirement already satisfied: sympy>=1.3 in c:\\users\\mani ratnam\\anaconda3\\lib\\site-packages (from qiskit-terra==0.45.1->qiskit) (1.10.1)\n",
      "Requirement already satisfied: psutil>=5 in c:\\users\\mani ratnam\\anaconda3\\lib\\site-packages (from qiskit-terra==0.45.1->qiskit) (5.8.0)\n",
      "Requirement already satisfied: typing-extensions in c:\\users\\mani ratnam\\anaconda3\\lib\\site-packages (from qiskit-terra==0.45.1->qiskit) (4.7.1)\n",
      "Collecting stevedore>=3.0.0\n",
      "  Using cached stevedore-5.1.0-py3-none-any.whl (49 kB)\n",
      "Collecting ply>=3.10\n",
      "  Using cached ply-3.11-py2.py3-none-any.whl (49 kB)\n",
      "Requirement already satisfied: six>=1.5 in c:\\users\\mani ratnam\\anaconda3\\lib\\site-packages (from python-dateutil>=2.8.0->qiskit-terra==0.45.1->qiskit) (1.16.0)\n",
      "Requirement already satisfied: pbr!=2.1.0,>=2.0.0 in c:\\users\\mani ratnam\\anaconda3\\lib\\site-packages (from stevedore>=3.0.0->qiskit-terra==0.45.1->qiskit) (6.0.0)\n",
      "Requirement already satisfied: mpmath>=0.19 in c:\\users\\mani ratnam\\anaconda3\\lib\\site-packages (from sympy>=1.3->qiskit-terra==0.45.1->qiskit) (1.2.1)\n",
      "Installing collected packages: stevedore, rustworkx, ply, dill, qiskit-terra, qiskit\n",
      "Successfully installed dill-0.3.7 ply-3.11 qiskit-0.45.1 qiskit-terra-0.45.1 rustworkx-0.13.2 stevedore-5.1.0\n",
      "Note: you may need to restart the kernel to use updated packages.\n"
     ]
    }
   ],
   "source": [
    "pip install qiskit"
   ]
  },
  {
   "cell_type": "code",
   "execution_count": 4,
   "id": "0bbd0c60",
   "metadata": {},
   "outputs": [],
   "source": [
    "import qiskit"
   ]
  },
  {
   "cell_type": "code",
   "execution_count": 6,
   "id": "54795a63",
   "metadata": {},
   "outputs": [
    {
     "data": {
      "text/plain": [
       "{'qiskit': '0.45.1', 'qiskit-aer': None, 'qiskit-ignis': None, 'qiskit-ibmq-provider': None, 'qiskit-nature': None, 'qiskit-finance': None, 'qiskit-optimization': None, 'qiskit-machine-learning': None}"
      ]
     },
     "execution_count": 6,
     "metadata": {},
     "output_type": "execute_result"
    }
   ],
   "source": [
    "qiskit.__qiskit_version__"
   ]
  },
  {
   "cell_type": "code",
   "execution_count": null,
   "id": "9fd06f0e",
   "metadata": {},
   "outputs": [],
   "source": []
  }
 ],
 "metadata": {
  "kernelspec": {
   "display_name": "Python 3 (ipykernel)",
   "language": "python",
   "name": "python3"
  },
  "language_info": {
   "codemirror_mode": {
    "name": "ipython",
    "version": 3
   },
   "file_extension": ".py",
   "mimetype": "text/x-python",
   "name": "python",
   "nbconvert_exporter": "python",
   "pygments_lexer": "ipython3",
   "version": "3.9.12"
  }
 },
 "nbformat": 4,
 "nbformat_minor": 5
}
