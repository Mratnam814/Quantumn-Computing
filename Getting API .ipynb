{
 "cells": [
  {
   "cell_type": "code",
   "execution_count": 11,
   "id": "c480ae04",
   "metadata": {},
   "outputs": [
    {
     "name": "stdout",
     "output_type": "stream",
     "text": [
      "Requirement already satisfied: qiskit in c:\\users\\mani ratnam\\anaconda3\\lib\\site-packages (0.45.1)\n",
      "Requirement already satisfied: qiskit-terra==0.45.1 in c:\\users\\mani ratnam\\anaconda3\\lib\\site-packages (from qiskit) (0.45.1)\n",
      "Requirement already satisfied: numpy<2,>=1.17 in c:\\users\\mani ratnam\\anaconda3\\lib\\site-packages (from qiskit-terra==0.45.1->qiskit) (1.22.4)\n",
      "Requirement already satisfied: psutil>=5 in c:\\users\\mani ratnam\\anaconda3\\lib\\site-packages (from qiskit-terra==0.45.1->qiskit) (5.8.0)\n",
      "Requirement already satisfied: ply>=3.10 in c:\\users\\mani ratnam\\anaconda3\\lib\\site-packages (from qiskit-terra==0.45.1->qiskit) (3.11)\n",
      "Requirement already satisfied: typing-extensions in c:\\users\\mani ratnam\\anaconda3\\lib\\site-packages (from qiskit-terra==0.45.1->qiskit) (4.7.1)\n",
      "Requirement already satisfied: dill>=0.3 in c:\\users\\mani ratnam\\anaconda3\\lib\\site-packages (from qiskit-terra==0.45.1->qiskit) (0.3.7)\n",
      "Requirement already satisfied: rustworkx>=0.13.0 in c:\\users\\mani ratnam\\anaconda3\\lib\\site-packages (from qiskit-terra==0.45.1->qiskit) (0.13.2)\n",
      "Requirement already satisfied: scipy>=1.5 in c:\\users\\mani ratnam\\anaconda3\\lib\\site-packages (from qiskit-terra==0.45.1->qiskit) (1.7.3)\n",
      "Requirement already satisfied: python-dateutil>=2.8.0 in c:\\users\\mani ratnam\\anaconda3\\lib\\site-packages (from qiskit-terra==0.45.1->qiskit) (2.8.2)\n",
      "Requirement already satisfied: sympy>=1.3 in c:\\users\\mani ratnam\\anaconda3\\lib\\site-packages (from qiskit-terra==0.45.1->qiskit) (1.10.1)\n",
      "Requirement already satisfied: stevedore>=3.0.0 in c:\\users\\mani ratnam\\anaconda3\\lib\\site-packages (from qiskit-terra==0.45.1->qiskit) (5.1.0)\n",
      "Requirement already satisfied: six>=1.5 in c:\\users\\mani ratnam\\anaconda3\\lib\\site-packages (from python-dateutil>=2.8.0->qiskit-terra==0.45.1->qiskit) (1.16.0)\n",
      "Requirement already satisfied: pbr!=2.1.0,>=2.0.0 in c:\\users\\mani ratnam\\anaconda3\\lib\\site-packages (from stevedore>=3.0.0->qiskit-terra==0.45.1->qiskit) (6.0.0)\n",
      "Requirement already satisfied: mpmath>=0.19 in c:\\users\\mani ratnam\\anaconda3\\lib\\site-packages (from sympy>=1.3->qiskit-terra==0.45.1->qiskit) (1.2.1)\n",
      "Note: you may need to restart the kernel to use updated packages.\n"
     ]
    }
   ],
   "source": [
    "pip install qiskit"
   ]
  },
  {
   "cell_type": "code",
   "execution_count": 12,
   "id": "0bbd0c60",
   "metadata": {},
   "outputs": [],
   "source": [
    "import qiskit"
   ]
  },
  {
   "cell_type": "code",
   "execution_count": 13,
   "id": "54795a63",
   "metadata": {},
   "outputs": [
    {
     "data": {
      "text/plain": [
       "{'qiskit': '0.45.1', 'qiskit-aer': None, 'qiskit-ignis': None, 'qiskit-ibmq-provider': '0.20.2', 'qiskit-nature': None, 'qiskit-finance': None, 'qiskit-optimization': None, 'qiskit-machine-learning': None}"
      ]
     },
     "execution_count": 13,
     "metadata": {},
     "output_type": "execute_result"
    }
   ],
   "source": [
    "qiskit.__qiskit_version__"
   ]
  },
  {
   "cell_type": "code",
   "execution_count": 17,
   "id": "a3f33ff9",
   "metadata": {},
   "outputs": [
    {
     "name": "stdout",
     "output_type": "stream",
     "text": [
      "Collecting qiskit_ibm_provider\n",
      "  Downloading qiskit_ibm_provider-0.7.3-py3-none-any.whl (243 kB)\n",
      "Requirement already satisfied: qiskit>=0.44.1 in c:\\users\\mani ratnam\\anaconda3\\lib\\site-packages (from qiskit_ibm_provider) (0.45.1)\n",
      "Requirement already satisfied: python-dateutil>=2.8.0 in c:\\users\\mani ratnam\\anaconda3\\lib\\site-packages (from qiskit_ibm_provider) (2.8.2)\n",
      "Requirement already satisfied: requests-ntlm>=1.1.0 in c:\\users\\mani ratnam\\anaconda3\\lib\\site-packages (from qiskit_ibm_provider) (1.1.0)\n",
      "Requirement already satisfied: websockets>=10.0 in c:\\users\\mani ratnam\\anaconda3\\lib\\site-packages (from qiskit_ibm_provider) (12.0)\n",
      "Requirement already satisfied: numpy>=1.13 in c:\\users\\mani ratnam\\anaconda3\\lib\\site-packages (from qiskit_ibm_provider) (1.22.4)\n",
      "Requirement already satisfied: urllib3>=1.21.1 in c:\\users\\mani ratnam\\anaconda3\\lib\\site-packages (from qiskit_ibm_provider) (1.26.9)\n",
      "Requirement already satisfied: requests>=2.19 in c:\\users\\mani ratnam\\anaconda3\\lib\\site-packages (from qiskit_ibm_provider) (2.27.1)\n",
      "Requirement already satisfied: websocket-client>=1.5.1 in c:\\users\\mani ratnam\\anaconda3\\lib\\site-packages (from qiskit_ibm_provider) (1.7.0)\n",
      "Requirement already satisfied: typing-extensions>=4.3 in c:\\users\\mani ratnam\\anaconda3\\lib\\site-packages (from qiskit_ibm_provider) (4.7.1)\n",
      "Requirement already satisfied: six>=1.5 in c:\\users\\mani ratnam\\anaconda3\\lib\\site-packages (from python-dateutil>=2.8.0->qiskit_ibm_provider) (1.16.0)\n",
      "Requirement already satisfied: qiskit-terra==0.45.1 in c:\\users\\mani ratnam\\anaconda3\\lib\\site-packages (from qiskit>=0.44.1->qiskit_ibm_provider) (0.45.1)\n",
      "Requirement already satisfied: sympy>=1.3 in c:\\users\\mani ratnam\\anaconda3\\lib\\site-packages (from qiskit-terra==0.45.1->qiskit>=0.44.1->qiskit_ibm_provider) (1.10.1)\n",
      "Requirement already satisfied: dill>=0.3 in c:\\users\\mani ratnam\\anaconda3\\lib\\site-packages (from qiskit-terra==0.45.1->qiskit>=0.44.1->qiskit_ibm_provider) (0.3.7)\n",
      "Requirement already satisfied: scipy>=1.5 in c:\\users\\mani ratnam\\anaconda3\\lib\\site-packages (from qiskit-terra==0.45.1->qiskit>=0.44.1->qiskit_ibm_provider) (1.7.3)\n",
      "Requirement already satisfied: ply>=3.10 in c:\\users\\mani ratnam\\anaconda3\\lib\\site-packages (from qiskit-terra==0.45.1->qiskit>=0.44.1->qiskit_ibm_provider) (3.11)\n",
      "Requirement already satisfied: stevedore>=3.0.0 in c:\\users\\mani ratnam\\anaconda3\\lib\\site-packages (from qiskit-terra==0.45.1->qiskit>=0.44.1->qiskit_ibm_provider) (5.1.0)\n",
      "Requirement already satisfied: psutil>=5 in c:\\users\\mani ratnam\\anaconda3\\lib\\site-packages (from qiskit-terra==0.45.1->qiskit>=0.44.1->qiskit_ibm_provider) (5.8.0)\n",
      "Requirement already satisfied: rustworkx>=0.13.0 in c:\\users\\mani ratnam\\anaconda3\\lib\\site-packages (from qiskit-terra==0.45.1->qiskit>=0.44.1->qiskit_ibm_provider) (0.13.2)\n",
      "Requirement already satisfied: idna<4,>=2.5 in c:\\users\\mani ratnam\\anaconda3\\lib\\site-packages (from requests>=2.19->qiskit_ibm_provider) (3.3)\n",
      "Requirement already satisfied: charset-normalizer~=2.0.0 in c:\\users\\mani ratnam\\anaconda3\\lib\\site-packages (from requests>=2.19->qiskit_ibm_provider) (2.0.4)\n",
      "Requirement already satisfied: certifi>=2017.4.17 in c:\\users\\mani ratnam\\anaconda3\\lib\\site-packages (from requests>=2.19->qiskit_ibm_provider) (2021.10.8)\n",
      "Requirement already satisfied: cryptography>=1.3 in c:\\users\\mani ratnam\\anaconda3\\lib\\site-packages (from requests-ntlm>=1.1.0->qiskit_ibm_provider) (3.4.8)\n",
      "Note: you may need to restart the kernel to use updated packages.\n",
      "Requirement already satisfied: ntlm-auth>=1.0.2 in c:\\users\\mani ratnam\\anaconda3\\lib\\site-packages (from requests-ntlm>=1.1.0->qiskit_ibm_provider) (1.5.0)\n",
      "Requirement already satisfied: cffi>=1.12 in c:\\users\\mani ratnam\\anaconda3\\lib\\site-packages (from cryptography>=1.3->requests-ntlm>=1.1.0->qiskit_ibm_provider) (1.15.0)\n",
      "Requirement already satisfied: pycparser in c:\\users\\mani ratnam\\anaconda3\\lib\\site-packages (from cffi>=1.12->cryptography>=1.3->requests-ntlm>=1.1.0->qiskit_ibm_provider) (2.21)\n",
      "Requirement already satisfied: pbr!=2.1.0,>=2.0.0 in c:\\users\\mani ratnam\\anaconda3\\lib\\site-packages (from stevedore>=3.0.0->qiskit-terra==0.45.1->qiskit>=0.44.1->qiskit_ibm_provider) (6.0.0)\n",
      "Requirement already satisfied: mpmath>=0.19 in c:\\users\\mani ratnam\\anaconda3\\lib\\site-packages (from sympy>=1.3->qiskit-terra==0.45.1->qiskit>=0.44.1->qiskit_ibm_provider) (1.2.1)\n",
      "Installing collected packages: qiskit-ibm-provider\n",
      "Successfully installed qiskit-ibm-provider-0.7.3\n"
     ]
    }
   ],
   "source": [
    "pip install qiskit_ibm_provider"
   ]
  },
  {
   "cell_type": "code",
   "execution_count": 18,
   "id": "9fd06f0e",
   "metadata": {},
   "outputs": [],
   "source": [
    "from qiskit import IBMQ"
   ]
  },
  {
   "cell_type": "code",
   "execution_count": 19,
   "id": "829837e8",
   "metadata": {},
   "outputs": [
    {
     "name": "stderr",
     "output_type": "stream",
     "text": [
      "configrc.store_credentials:WARNING:2023-12-13 17:30:32,198: Credentials already present. Set overwrite=True to overwrite.\n"
     ]
    }
   ],
   "source": [
    "IBMQ.save_account('8c3e80709036aceb3281644780fdabefe64505d8f779e6abd385d72b5123c3a5c5b7a840d022a6388d9feaabb8c4922577d870c709a4469a0ece4b6dbf6c2d24')"
   ]
  },
  {
   "cell_type": "code",
   "execution_count": null,
   "id": "4fdc7901",
   "metadata": {},
   "outputs": [],
   "source": []
  }
 ],
 "metadata": {
  "kernelspec": {
   "display_name": "Python 3 (ipykernel)",
   "language": "python",
   "name": "python3"
  },
  "language_info": {
   "codemirror_mode": {
    "name": "ipython",
    "version": 3
   },
   "file_extension": ".py",
   "mimetype": "text/x-python",
   "name": "python",
   "nbconvert_exporter": "python",
   "pygments_lexer": "ipython3",
   "version": "3.9.12"
  }
 },
 "nbformat": 4,
 "nbformat_minor": 5
}
